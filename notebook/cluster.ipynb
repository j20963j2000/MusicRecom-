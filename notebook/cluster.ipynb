{
 "cells": [
  {
   "cell_type": "code",
   "execution_count": 8,
   "id": "0524dd5f-6d48-4179-a61a-9e6313e8f288",
   "metadata": {},
   "outputs": [],
   "source": [
    "import numpy as np\n",
    "import ijson"
   ]
  },
  {
   "cell_type": "code",
   "execution_count": 2,
   "id": "956fb3e7-063c-4341-80ee-237fae4e4d18",
   "metadata": {},
   "outputs": [],
   "source": [
    "train_path = '/mnt/md1/datasets/Spotify/data'\n",
    "test_path = '/mnt/md1/datasets/Spotify/challenge_set.json'"
   ]
  },
  {
   "cell_type": "code",
   "execution_count": 9,
   "id": "f953c79b-5132-47ec-b246-f273a6015c9a",
   "metadata": {},
   "outputs": [
    {
     "name": "stdout",
     "output_type": "stream",
     "text": [
      "[]\n"
     ]
    }
   ],
   "source": [
    "with open(test_path, 'r') as f:\n",
    "    objects = ijson.items(f, 'playlists.columns.item')\n",
    "    columns = list(objects)\n",
    "\n",
    "print(columns)"
   ]
  },
  {
   "cell_type": "code",
   "execution_count": null,
   "id": "ba838bfd-6a60-4fa4-9561-16ed7bbe2050",
   "metadata": {},
   "outputs": [],
   "source": []
  }
 ],
 "metadata": {
  "kernelspec": {
   "display_name": "Python 3 (ipykernel)",
   "language": "python",
   "name": "python3"
  },
  "language_info": {
   "codemirror_mode": {
    "name": "ipython",
    "version": 3
   },
   "file_extension": ".py",
   "mimetype": "text/x-python",
   "name": "python",
   "nbconvert_exporter": "python",
   "pygments_lexer": "ipython3",
   "version": "3.8.12"
  }
 },
 "nbformat": 4,
 "nbformat_minor": 5
}
